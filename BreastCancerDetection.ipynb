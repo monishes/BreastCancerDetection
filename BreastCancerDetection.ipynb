{
 "cells": [
  {
   "cell_type": "markdown",
   "id": "99f8aba4",
   "metadata": {},
   "source": [
    "# Breast Cancer Detection"
   ]
  },
  {
   "cell_type": "markdown",
   "id": "76984b53",
   "metadata": {},
   "source": [
    "### Importing Libraries"
   ]
  },
  {
   "cell_type": "code",
   "execution_count": 2,
   "id": "1820f850",
   "metadata": {},
   "outputs": [],
   "source": [
    "import pandas as pd"
   ]
  },
  {
   "cell_type": "markdown",
   "id": "c2f47a7f",
   "metadata": {},
   "source": [
    "### Importing Dataset"
   ]
  },
  {
   "cell_type": "code",
   "execution_count": 3,
   "id": "fd2145ed",
   "metadata": {},
   "outputs": [],
   "source": [
    "dataset=pd.read_csv(\"breast_cancer.csv\")\n",
    "X=dataset.iloc[:,1:-1].values\n",
    "y=dataset.iloc[:,-1].values"
   ]
  },
  {
   "cell_type": "markdown",
   "id": "522b630b",
   "metadata": {},
   "source": [
    "### Splitting the Training Test and Test Set"
   ]
  },
  {
   "cell_type": "code",
   "execution_count": 4,
   "id": "a22a6111",
   "metadata": {},
   "outputs": [],
   "source": [
    "from sklearn.model_selection import train_test_split\n",
    "X_train,X_test,y_train,y_test=train_test_split(X,y,test_size=0.2,random_state=0)"
   ]
  },
  {
   "cell_type": "markdown",
   "id": "6c05e123",
   "metadata": {},
   "source": [
    "### Training the Logistic Regression model on the Training Set"
   ]
  },
  {
   "cell_type": "code",
   "execution_count": 5,
   "id": "501cc178",
   "metadata": {},
   "outputs": [
    {
     "data": {
      "text/plain": [
       "LogisticRegression(random_state=0)"
      ]
     },
     "execution_count": 5,
     "metadata": {},
     "output_type": "execute_result"
    }
   ],
   "source": [
    "from sklearn.linear_model import LogisticRegression\n",
    "BC_Detection=LogisticRegression(random_state=0)\n",
    "BC_Detection.fit(X_train,y_train)"
   ]
  },
  {
   "cell_type": "markdown",
   "id": "620d2f8b",
   "metadata": {},
   "source": [
    "### Predicting the Test Set results"
   ]
  },
  {
   "cell_type": "code",
   "execution_count": 6,
   "id": "ec504432",
   "metadata": {},
   "outputs": [
    {
     "name": "stdout",
     "output_type": "stream",
     "text": [
      "[2 2 4 4 2 2 2 4 2 2 4 2 4 2 2 2 4 4 4 2 2 2 4 2 4 4 2 2 2 4 2 4 4 2 2 2 4\n",
      " 4 2 4 2 2 2 2 2 2 2 4 2 2 4 2 4 2 2 2 4 4 2 4 2 2 2 2 2 2 2 2 4 4 2 2 2 2\n",
      " 2 2 4 2 2 2 4 2 4 2 2 4 2 4 4 2 4 2 4 4 2 4 4 4 4 2 2 2 4 4 2 2 4 2 2 2 4\n",
      " 2 2 4 2 2 2 2 2 2 2 4 2 2 4 4 2 4 2 4 2 2 4 2 2 4 2]\n"
     ]
    }
   ],
   "source": [
    "predicted_results=BC_Detection.predict(X_test)\n",
    "print(predicted_results)"
   ]
  },
  {
   "cell_type": "markdown",
   "id": "a261e103",
   "metadata": {},
   "source": [
    "### Generating the Confusion Matrix and Checking Accuracy of Model"
   ]
  },
  {
   "cell_type": "code",
   "execution_count": 12,
   "id": "748ab2d6",
   "metadata": {},
   "outputs": [
    {
     "name": "stdout",
     "output_type": "stream",
     "text": [
      "Confusion Matrix :\n",
      "[[84  3]\n",
      " [ 3 47]]\n"
     ]
    },
    {
     "data": {
      "text/plain": [
       "0.9562043795620438"
      ]
     },
     "execution_count": 12,
     "metadata": {},
     "output_type": "execute_result"
    }
   ],
   "source": [
    "from sklearn.metrics import confusion_matrix, accuracy_score\n",
    "cm=confusion_matrix(y_test,predicted_results)\n",
    "print(\"Confusion Matrix :\")\n",
    "print(cm)\n",
    "accuracy_score(y_test,predicted_results)"
   ]
  },
  {
   "cell_type": "markdown",
   "id": "f023def9",
   "metadata": {},
   "source": [
    "Our Model Has an Accuracy of 95.652%. With 84 out of 3 correct predictions of \"Class 2\" cancer and 47 out of 50 correct predictions of \"Class 4\" cancer."
   ]
  },
  {
   "cell_type": "markdown",
   "id": "67904483",
   "metadata": {},
   "source": [
    "### Accuracy of our Model with k-Fold Cross Validation"
   ]
  },
  {
   "cell_type": "code",
   "execution_count": 8,
   "id": "d54aa7f0",
   "metadata": {},
   "outputs": [
    {
     "name": "stdout",
     "output_type": "stream",
     "text": [
      "Our model has an accuracy of 96.32% with a Standard Deviation of 3.69%\n"
     ]
    }
   ],
   "source": [
    "from sklearn.model_selection import cross_val_score\n",
    "accuracies=cross_val_score(estimator=BC_Detection,X=X_test,y=y_test,cv=10)\n",
    "print(\"Our model has an accuracy of {:.2f}% with a Standard Deviation of {:.2f}%\".format(accuracies.mean()*100,accuracies.std()*100))"
   ]
  },
  {
   "cell_type": "markdown",
   "id": "a56be616",
   "metadata": {},
   "source": [
    "### Breast Cancer Detection"
   ]
  },
  {
   "cell_type": "code",
   "execution_count": 15,
   "id": "5cc2281d",
   "metadata": {},
   "outputs": [
    {
     "name": "stdout",
     "output_type": "stream",
     "text": [
      "Do you want to Detect ? (Y/N)Y\n",
      "Enter Patient's features to detect Cancer:\n",
      "Clump Thickness :5\n",
      "Uniformity of Cell Size :1\n",
      "Uniformity of Cell Shape :1\n",
      "Marginal Adhesion :1\n",
      "Single Epithelial Cell Size :2\n",
      "Bare Nuclei :1\n",
      "Bland Chromatin :3\n",
      "Normal Nucleoli :1\n",
      "Mitoses :2\n",
      "Class 2\n",
      "Our model has an accuracy of 96.32% with a Standard Deviation of 3.69%\n",
      "Do you want to Detect ? (Y/N)N\n"
     ]
    }
   ],
   "source": [
    "ch='y'\n",
    "while ch=='y':\n",
    "    ch=str(input(\"Do you want to Detect ? (Y/N)\"))\n",
    "    ch=ch.lower()\n",
    "    if ch=='y':\n",
    "        print(\"Enter Patient's features to detect Cancer:\")\n",
    "        ct=int(input(\"Clump Thickness :\"))\n",
    "        ucsize=int(input(\"Uniformity of Cell Size :\"))\n",
    "        ucshape=int(input(\"Uniformity of Cell Shape :\"))\n",
    "        ma=int(input(\"Marginal Adhesion :\"))\n",
    "        secs=int(input(\"Single Epithelial Cell Size :\"))\n",
    "        bn=int(input(\"Bare Nuclei :\"))\n",
    "        bc=int(input(\"Bland Chromatin :\"))\n",
    "        nn=int(input(\"Normal Nucleoli :\"))\n",
    "        m=int(input(\"Mitoses :\"))\n",
    "\n",
    "        pred=BC_Detection.predict([[ct,ucsize,ucshape,ma,secs,bn,bc,nn,m]])\n",
    "        print(\"Class {}\".format(str(pred[0])))\n",
    "\n",
    "\n",
    "        print(\"Our model has an accuracy of {:.2f}% with a Standard Deviation of {:.2f}%\".format(accuracies.mean()*100,accuracies.std()*100))\n",
    "    else:\n",
    "        break"
   ]
  },
  {
   "cell_type": "code",
   "execution_count": null,
   "id": "82f29690",
   "metadata": {},
   "outputs": [],
   "source": []
  }
 ],
 "metadata": {
  "kernelspec": {
   "display_name": "Python 3 (ipykernel)",
   "language": "python",
   "name": "python3"
  },
  "language_info": {
   "codemirror_mode": {
    "name": "ipython",
    "version": 3
   },
   "file_extension": ".py",
   "mimetype": "text/x-python",
   "name": "python",
   "nbconvert_exporter": "python",
   "pygments_lexer": "ipython3",
   "version": "3.9.7"
  }
 },
 "nbformat": 4,
 "nbformat_minor": 5
}
